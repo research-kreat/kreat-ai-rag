{
 "cells": [
  {
   "cell_type": "code",
   "execution_count": 1,
   "metadata": {},
   "outputs": [],
   "source": [
    "from langchain_cohere import CohereEmbeddings\n",
    "from langchain_community.vectorstores import Qdrant\n",
    "from langchain_groq import ChatGroq\n",
    "from qdrant_client import QdrantClient\n",
    "from IPython.display import Markdown"
   ]
  },
  {
   "cell_type": "code",
   "execution_count": 2,
   "metadata": {},
   "outputs": [],
   "source": [
    "embeddings = CohereEmbeddings(model=\"embed-english-light-v3.0\",cohere_api_key=\"HgZpQb9mGtu3BmkG9AtMQVhT9kRW9VHSqSXk2kqP\")\n",
    "llm = ChatGroq(temperature=0.5, groq_api_key=\"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\", model_name=\"llama3-70b-8192\")\n",
    "\n",
    "qdrant_client = QdrantClient(\n",
    "    url=\"https://f4bf0d03-f13c-43b6-87cc-32935393ab68.us-east4-0.gcp.cloud.qdrant.io:6333\",\n",
    "    api_key=\"r8CbzHB7iEGgX5ISK885jtMkaHCLJYAceYvjx3V-OEtKHqn1xnzHvQ\"\n",
    ")"
   ]
  },
  {
   "cell_type": "code",
   "execution_count": 3,
   "metadata": {},
   "outputs": [],
   "source": [
    "innovations = Qdrant(\n",
    "        client=qdrant_client,\n",
    "        collection_name=\"biomimicry-innovations\",\n",
    "        embeddings=embeddings\n",
    "    )\n",
    "strategies = Qdrant(\n",
    "        client=qdrant_client,\n",
    "        collection_name=\"biomimicry-strategies\",\n",
    "        embeddings=embeddings\n",
    "    )\n",
    "journals = Qdrant(\n",
    "        client=qdrant_client,\n",
    "        collection_name=\"journals\",\n",
    "        embeddings=embeddings\n",
    "    )\n",
    "patents = Qdrant(\n",
    "        client=qdrant_client,\n",
    "        collection_name=\"patents\",\n",
    "        embeddings=embeddings\n",
    "    )\n"
   ]
  },
  {
   "cell_type": "code",
   "execution_count": 4,
   "metadata": {},
   "outputs": [],
   "source": [
    "from IPython.display import Markdown\n",
    "\n",
    "query = \"Forecasting system for prevalent disease\"\n",
    "found_docs = innovations.similarity_search(query)\n",
    "\n"
   ]
  },
  {
   "cell_type": "code",
   "execution_count": 7,
   "metadata": {},
   "outputs": [
    {
     "name": "stdout",
     "output_type": "stream",
     "text": [
      "A diagnostic system for diagnosing faults in a power inverter including a power loss estimating module configured to calculate a power loss of one or more components of the power inverter. A junction temperature estimating module is configured to output an estimated junction temperature of the one or more components of the power inverter. A plurality of temperature sensors is configured to sense a plurality of temperatures of a plurality of inverter legs, respectively. A health indicator generating module is configured to generate a plurality of health indicators in response to the estimated junction temperature and the plurality of sensed temperatures of the plurality of inverter legs. A fault identification module is configured to selectively identify one of an inverter fault, a temperature sensor fault, and no fault in response to the plurality of health indicators.\n"
     ]
    }
   ],
   "source": [
    "print(found_docs[0].metadata[''])\n",
    "\n",
    "print(found_docs[0].page_content)"
   ]
  },
  {
   "cell_type": "code",
   "execution_count": 18,
   "metadata": {},
   "outputs": [
    {
     "data": {
      "text/markdown": [
       "**Sustainable Electric Vehicle Battery Biomimicry Innovation Insights**\n",
       "\n",
       "**Innovation Description:**\n",
       "The mussel-inspired nanocellulose (MINC) coating innovation can be applied to develop sustainable electric vehicle batteries. This biomimicry innovation leverages the unique properties of mussel byssal threads to create an extractive coating that can selectively extract rare earth elements, such as neodymium (Nd), from industrial wastewater. This process reduces energy consumption and pollution, making it an attractive solution for sustainable electric vehicle battery production.\n",
       "\n",
       "**Key Features:**\n",
       "\n",
       "* **Negatively charged ions:** The MINC coating is composed of an array of tiny cellulose nanocrystals with negatively charged ions, which enables the selective extraction of positively charged neodymium ions.\n",
       "* **Energy efficiency:** The innovative coating requires minimal energy to extract rare earth elements, reducing the environmental impact of traditional extraction methods.\n",
       "* **Pollution reduction:** By using industrial wastewater as a source of rare earth elements, the MINC coating helps reduce pollution and minimize the environmental footprint of electric vehicle battery production.\n",
       "\n",
       "**Applications:**\n",
       "The MINC coating has far-reaching implications for sustainable electric vehicle battery production, contributing to:\n",
       "\n",
       "* **Green power generation:** Electric vehicles powered by sustainable batteries can significantly reduce greenhouse gas emissions and promote clean energy.\n",
       "* **Cleaner transportation:** The development of sustainable electric vehicle batteries can accelerate the transition to cleaner, more environmentally friendly transportation options.\n",
       "\n",
       "**UN Sustainable Development Goals Addressed:**\n",
       "\n",
       "* **Goal 6: Clean Water & Sanitation:** The MINC coating helps reduce water pollution by extracting rare earth elements from industrial wastewater.\n",
       "* **Goal 7: Affordable & Clean Energy:** Sustainable electric vehicle batteries can promote clean energy and reduce dependence on fossil fuels.\n",
       "* **Goal 9: Industry Innovation & Infrastructure:** The innovation has the potential to transform the electric vehicle battery industry, promoting sustainable development and infrastructure growth.\n",
       "\n",
       "By embracing biomimicry innovation, the development of sustainable electric vehicle batteries can become a reality, driving progress toward a cleaner, more sustainable future."
      ],
      "text/plain": [
       "<IPython.core.display.Markdown object>"
      ]
     },
     "metadata": {},
     "output_type": "display_data"
    },
    {
     "data": {
      "text/markdown": [
       "**Sustainable Electric Vehicle Battery Inspired by Mussel-Adhesive Proteins**\n",
       "======================================================================\n",
       "\n",
       "**Innovative Solution:**\n",
       "A novel, energy-efficient, and environmentally friendly approach to extracting neodymium (Nd) from industrial wastewater, inspired by the mussel's adhesive proteins.\n",
       "\n",
       "**How it Works:**\n",
       "The mussel-inspired nanocellulose (MINC) coating is composed of an array of tiny cellulose nanocrystals with negatively charged ions. These hair-like tendrils selectively attract positively charged neodymium ions, allowing for efficient extraction from industrial wastewater. This biomimicry innovation reduces energy consumption and pollution associated with conventional extraction methods.\n",
       "\n",
       "**Benefits:**\n",
       "\n",
       "* **Reduced Energy:** The MINC coating requires minimal energy to extract Nd, making it a sustainable solution for the electric vehicle industry.\n",
       "* **Reduced Pollution:** This innovative approach minimizes air and water pollution, contributing to a cleaner environment.\n",
       "\n",
       "**Applications:**\n",
       "\n",
       "* **Green Power Generation:** The extracted Nd can be used in wind turbines, supporting the transition to renewable energy sources.\n",
       "* **Electric Vehicles:** The sustainable extraction of Nd enables the production of more environmentally friendly electric vehicles.\n",
       "\n",
       "**UN Sustainable Development Goals Addressed:**\n",
       "\n",
       "* **Goal 6: Clean Water & Sanitation**\n",
       "* **Goal 7: Affordable & Clean Energy**\n",
       "* **Goal 9: Industry Innovation & Infrastructure**\n",
       "\n",
       "This biomimicry innovation has the potential to revolutionize the electric vehicle industry by providing a sustainable and environmentally friendly solution for extracting Nd, a critical component of electric vehicle batteries."
      ],
      "text/plain": [
       "<IPython.core.display.Markdown object>"
      ]
     },
     "metadata": {},
     "output_type": "display_data"
    },
    {
     "data": {
      "text/markdown": [
       "**Sustainable Electric Vehicle Battery Inspired by Spider Silk**\n",
       "=================================================================\n",
       "\n",
       "**Innovative Biomaterial for Enhanced Proton Conductivity**\n",
       "--------------------------------------------------------\n",
       "\n",
       "### Problem Statement\n",
       "\n",
       "The development of sustainable electric vehicle batteries is hindered by the limitations of current battery materials, including low proton conductivity and insufficient durability.\n",
       "\n",
       "### Biomimicry Inspiration\n",
       "\n",
       "Spider silk, renowned for its exceptional strength, flexibility, and lightweight properties, offers a unique biomimicry solution. By emulating the supramolecular structure of spider silk, researchers have engineered a protein-like polymer that boosts proton conductivity, making it an ideal material for sustainable electric vehicle batteries.\n",
       "\n",
       "### Key Features\n",
       "\n",
       "* **Proton Conductivity**: The biomaterial's proton conductivity is higher than any previously known biomaterials, ensuring efficient energy storage and transfer.\n",
       "* **Durability**: The material's self-assembled nanostructure, inspired by spider silk, provides exceptional stability and durability, reducing the need for frequent replacements.\n",
       "* **Versatility**: The biomaterial can be tailored to accommodate various applications, including bio-electronics and sensors.\n",
       "\n",
       "### How it Works\n",
       "\n",
       "The researchers created a protein-like polymer with a structure similar to spider silk, incorporating strands of carbocyclic acid. This modification enables the material to self-assemble at the nanoscale, creating dense clusters of charged groups that dramatically enhance proton conductivity.\n",
       "\n",
       "### Benefits\n",
       "\n",
       "* **Sustainable Energy Storage**: The biomaterial's high proton conductivity and durability make it an ideal component for sustainable electric vehicle batteries.\n",
       "* **Increased Efficiency**: The material's enhanced proton conductivity ensures efficient energy transfer, reducing energy loss and increasing overall efficiency.\n",
       "* **Reduced Environmental Impact**: The use of sustainable biomaterials minimizes the environmental footprint of electric vehicle batteries.\n",
       "\n",
       "### UN Sustainable Development Goals Addressed\n",
       "\n",
       "* **Goal 9: Industry Innovation & Infrastructure**: The development of sustainable biomaterials for electric vehicle batteries promotes innovation and infrastructure growth.\n",
       "* **Goal 12: Responsible Production & Consumption**: The use of sustainable biomaterials reduces waste and promotes responsible consumption patterns.\n",
       "\n",
       "By harnessing the power of biomimicry, this innovative biomaterial has the potential to revolutionize the electric vehicle industry, enabling the development of sustainable, efficient, and durable batteries."
      ],
      "text/plain": [
       "<IPython.core.display.Markdown object>"
      ]
     },
     "metadata": {},
     "output_type": "display_data"
    }
   ],
   "source": [
    "def qa(query, context):\n",
    "    \"\"\"\n",
    "    This function sends a query and context to an LLM for biomimicry innovation insights.\n",
    "\n",
    "    Args:\n",
    "        query: The innovator's query about their innovation.\n",
    "        context: The metadata content (string) from a similar biomimicry innovation.\n",
    "\n",
    "    Returns:\n",
    "        A string containing the LLM's response in markdown format.\n",
    "    \"\"\"\n",
    "    prompt = f\"\"\"\n",
    "    ## Biomimicry Innovation Insights\n",
    "\n",
    "    **Query:** {query}\n",
    "\n",
    "    **Context:**\n",
    "\n",
    "    {context}\n",
    "\n",
    "    **Task:** \n",
    "\n",
    "    The innovator seeks biomimicry innovation insights based on their query. Understand the intent behind the query to provide a tailored response.\n",
    "    \n",
    "    Using the provided context about a similar biomimicry innovation, answer the innovator's query in detail. Focus on extracting all relevant information from the context to address the query. If the context is not relevant to the query, kindly state that no related innovation is available.\n",
    "    \n",
    "    Directly get into the answer without writing much detail into what the query was or mentioning any context given to you. Ensure a comprehensive response, including all pertinent details from the context.\n",
    "    \n",
    "    Extract key information from the context to address the query effectively. Aim for conciseness while ensuring all relevant aspects are covered.\n",
    "    \n",
    "    If the innovation is described, provide an extremely detailed description with all relevant points included. The answer should be in markdown format.\n",
    "\n",
    "    **Answer:**\n",
    "    \"\"\"\n",
    "\n",
    "    response = llm.invoke(prompt)\n",
    "    return response.content\n",
    "\n",
    "    \n",
    "query = \"sustainable electric vehicle battery\"\n",
    "\n",
    "found_docs = innovations.similarity_search(query,k=3)\n",
    "\n",
    "display(Markdown(qa(query,found_docs[0].metadata['content'])))\n",
    "\n",
    "display(Markdown(qa(query,found_docs[1].metadata['content'])))\n",
    "\n",
    "display(Markdown(qa(query,found_docs[2].metadata['content'])))\n"
   ]
  },
  {
   "cell_type": "code",
   "execution_count": 20,
   "metadata": {},
   "outputs": [
    {
     "data": {
      "text/markdown": [
       "**Biomimicry Strategy Insights: Sustainable Electric Vehicle Battery**\n",
       "\n",
       "Inspired by the heat-producing mechanisms of the philodendron flower, a novel approach to sustainable electric vehicle batteries can be developed. The key takeaway from the context is the plant's ability to metabolize stored lipids to generate heat, which can be applied to improve battery performance.\n",
       "\n",
       "**Lipid-Based Energy Storage**\n",
       "\n",
       "Mimicking the philodendron's lipid-metabolizing process, a new battery design could utilize lipids as an energy storage medium. This approach could potentially increase energy density, allowing for more efficient and sustainable electric vehicle batteries.\n",
       "\n",
       "**Advantages:**\n",
       "\n",
       "* **Higher Energy Density**: Lipids store more energy than traditional battery materials, enabling more efficient energy storage and longer battery life.\n",
       "* **Improved Sustainability**: The use of lipids as an energy storage medium could reduce the environmental impact of battery production and disposal.\n",
       "\n",
       "**Thermal Management**\n",
       "\n",
       "The philodendron's ability to generate heat can also inspire innovative thermal management systems for electric vehicle batteries. By developing materials that can efficiently absorb, store, and release heat, battery performance and lifespan can be improved.\n",
       "\n",
       "**Key Features:**\n",
       "\n",
       "* **Thermal Energy Harvesting**: Develop materials that can harness and convert heat into electrical energy, increasing overall battery efficiency.\n",
       "* **Advanced Cooling Systems**: Design cooling systems that mimic the philodendron's heat-generating process, allowing for more efficient heat dissipation and reduced battery degradation.\n",
       "\n",
       "**Future Directions**\n",
       "\n",
       "The biomimicry strategy outlined above offers a promising approach to sustainable electric vehicle batteries. Further research and development could lead to the creation of:\n",
       "\n",
       "* **Lipid-Based Battery Chemistries**: Investigate the development of lipid-based battery chemistries that can efficiently store and release energy.\n",
       "* **Thermal Energy Storage Systems**: Design and test thermal energy storage systems that can efficiently absorb, store, and release heat, improving overall battery performance.\n",
       "\n",
       "By emulating the philodendron's unique heat-producing mechanisms, a new generation of sustainable electric vehicle batteries can be developed, paving the way for a more environmentally friendly transportation sector."
      ],
      "text/plain": [
       "<IPython.core.display.Markdown object>"
      ]
     },
     "metadata": {},
     "output_type": "display_data"
    },
    {
     "data": {
      "text/markdown": [
       "**Biomimicry Strategy Insights for Sustainable Electric Vehicle Battery**\n",
       "\n",
       "### Amplifying Power Storage through Elastic Energy Storage\n",
       "\n",
       "Inspired by the locust's hind legs, which amplify jumping power through energy stored in muscle attachment sites, a biomimicry strategy for sustainable electric vehicle (EV) batteries can be developed. This approach focuses on elastic energy storage to enhance power density and efficiency.\n",
       "\n",
       "### Key Elements:\n",
       "\n",
       "#### 1. **Elastic Energy Storage**\n",
       "\n",
       "Incorporate elastic materials or mechanisms that can store energy slowly and release it rapidly, mimicking the locust's muscle attachment sites. This allows for efficient energy storage and release, reducing the need for high-power batteries.\n",
       "\n",
       "#### 2. **Mechanical Catch**\n",
       "\n",
       "Implement a mechanical catch or trigger system to prevent premature energy release, ensuring that the stored energy is released only when needed. This mechanism can be inspired by the locust's chitinous apodemes, which prevent premature extension of the hind legs.\n",
       "\n",
       "#### 3. **Power Amplification**\n",
       "\n",
       "Design the battery system to amplify power output when needed, similar to the locust's tenfold power amplification during jumping. This can be achieved through advanced materials or innovative battery architectures that enable rapid energy release.\n",
       "\n",
       "#### 4. **Efficient Energy Conversion**\n",
       "\n",
       "Optimize energy conversion between the battery and the electric motor to minimize energy losses. This can be achieved through advanced power electronics, efficient motor designs, or innovative thermal management systems.\n",
       "\n",
       "**Advantages:**\n",
       "\n",
       "* Improved power density and efficiency\n",
       "* Enhanced sustainability through reduced energy consumption\n",
       "* Potential for increased driving range and reduced charging times\n",
       "\n",
       "**Challenges and Future Directions:**\n",
       "\n",
       "* Developing advanced materials and mechanisms that can efficiently store and release energy\n",
       "* Integrating the elastic energy storage system with existing battery technologies\n",
       "* Optimizing the mechanical catch and power amplification mechanisms for efficient energy release\n",
       "\n",
       "By adopting a biomimicry approach inspired by the locust's remarkable jumping ability, sustainable electric vehicle batteries can be developed with improved power density, efficiency, and sustainability."
      ],
      "text/plain": [
       "<IPython.core.display.Markdown object>"
      ]
     },
     "metadata": {},
     "output_type": "display_data"
    },
    {
     "data": {
      "text/markdown": [
       "**Biomimicry Strategy Insights for Sustainable Electric Vehicle Battery**\n",
       "\n",
       "**Amplifying Energy Storage and Release**\n",
       "\n",
       "Inspired by the locust's hind legs, which amplify jumping power through energy storage in muscle attachment sites, a biomimicry strategy for sustainable electric vehicle batteries can be developed. This strategy focuses on optimizing energy storage and release mechanisms to enhance the overall performance and efficiency of electric vehicle batteries.\n",
       "\n",
       "**Key Elements:**\n",
       "\n",
       "### **Energy Storage Mechanism**\n",
       "\n",
       "* Inspired by the locust's chitinous apodemes, a novel energy storage mechanism can be designed to store energy slowly and release it rapidly, amplifying power output.\n",
       "* This mechanism can be integrated into the battery's architecture, allowing for more efficient energy storage and release.\n",
       "\n",
       "### **Mechanical Catch**\n",
       "\n",
       "* A mechanical catch system, similar to the locust's mechanical catch, can be implemented to prevent premature energy release.\n",
       "* This system would ensure that the stored energy is released only when needed, reducing energy waste and increasing overall efficiency.\n",
       "\n",
       "### **Power Amplification**\n",
       "\n",
       "* By incorporating the energy storage and mechanical catch mechanisms, the battery's power output can be amplified, similar to the locust's tenfold power amplification.\n",
       "* This would enable electric vehicles to achieve improved acceleration, increased range, and enhanced overall performance.\n",
       "\n",
       "### **Scalability and Adaptability**\n",
       "\n",
       "* The biomimicry strategy can be scaled up or down, depending on the specific application, from small electric vehicles to larger commercial vehicles.\n",
       "* The adaptable design can be tailored to accommodate different battery chemistries, ensuring compatibility with various electric vehicle platforms.\n",
       "\n",
       "**Implementation and Future Directions**\n",
       "\n",
       "* Collaborate with materials scientists and engineers to develop novel materials and architectures that mimic the locust's energy storage mechanism.\n",
       "* Integrate the mechanical catch system into the battery design, ensuring seamless energy storage and release.\n",
       "* Conduct rigorous testing and simulation to optimize the biomimicry-inspired battery design for real-world applications.\n",
       "\n",
       "By embracing the principles of biomimicry, the development of sustainable electric vehicle batteries can be revolutionized, leading to more efficient, high-performance, and environmentally friendly transportation solutions."
      ],
      "text/plain": [
       "<IPython.core.display.Markdown object>"
      ]
     },
     "metadata": {},
     "output_type": "display_data"
    }
   ],
   "source": [
    "def qa(query, context):\n",
    "    \"\"\"\n",
    "    This function sends a query and context to an LLM for biomimicry strategy insights.\n",
    "\n",
    "    Args:\n",
    "        query: The innovator's query about their biomimicry strategy.\n",
    "        context: The metadata content (string) from a similar biomimicry strategy.\n",
    "\n",
    "    Returns:\n",
    "        A string containing the LLM's response in markdown format.\n",
    "    \"\"\"\n",
    "    prompt = f\"\"\"\n",
    "    ## Biomimicry Strategy Insights\n",
    "\n",
    "    **Query:** {query}\n",
    "\n",
    "    **Context:**\n",
    "\n",
    "    {context}\n",
    "\n",
    "    **Task:** \n",
    "\n",
    "    The innovator seeks biomimicry strategy insights based on their query. Understand the intent behind the query to provide a tailored response.\n",
    "    \n",
    "    Using the provided context about a similar biomimicry strategy, provide detailed insights to address the innovator's query. Focus on extracting all relevant information from the context. If the context is not relevant to the query, kindly state that no related strategy is available.\n",
    "    \n",
    "    Directly get into the answer without writing much detail into what the query was or mentioning any context given to you. Ensure a comprehensive response, including all pertinent details from the context.\n",
    "\n",
    "    Craft a comprehensive response, incorporating key elements from the context to address the query effectively. Aim for conciseness while ensuring all relevant aspects are covered.\n",
    "     \n",
    "    If a strategy is described, provide an extremely detailed description with all pertinent points included. The answer should be in markdown format.\n",
    "\n",
    "    **Answer:**\n",
    "    \"\"\"\n",
    "\n",
    "    response = llm.invoke(prompt)\n",
    "    return response.content\n",
    "\n",
    "    \n",
    "\n",
    "\n",
    "\n",
    "query = \"sustainable electric vehicle battery\"\n",
    "\n",
    "found_docs = strategies.similarity_search(query,k=3)\n",
    "\n",
    "display(Markdown(qa(query,found_docs[0].metadata['content'])))\n",
    "\n",
    "display(Markdown(qa(query,found_docs[1].metadata['content'])))\n",
    "\n",
    "display(Markdown(qa(query,found_docs[2].metadata['content'])))\n"
   ]
  }
 ],
 "metadata": {
  "kernelspec": {
   "display_name": "myenv",
   "language": "python",
   "name": "python3"
  },
  "language_info": {
   "codemirror_mode": {
    "name": "ipython",
    "version": 3
   },
   "file_extension": ".py",
   "mimetype": "text/x-python",
   "name": "python",
   "nbconvert_exporter": "python",
   "pygments_lexer": "ipython3",
   "version": "3.11.4"
  }
 },
 "nbformat": 4,
 "nbformat_minor": 2
}
